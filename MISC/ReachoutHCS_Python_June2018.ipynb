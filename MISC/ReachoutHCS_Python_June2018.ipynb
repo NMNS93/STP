{
 "cells": [
  {
   "cell_type": "markdown",
   "metadata": {},
   "source": [
    "# Bioinformatics challenges with Python\n",
    "### Reachout for Healthcare Science (King's Health Partners, June 2018)\n",
    "\n",
    "In genetic labs, bioinformaticians write programs to help diagnose diseases from the patient's DNA sequence. The sequence is contained in digital files with the DNA bases represented as 'A','T','G' and 'C'. Below are some Bioinformatics head-scratchers - Try to solve the errors in the code!"
   ]
  },
  {
   "cell_type": "markdown",
   "metadata": {},
   "source": [
    "### Run the cell below before attempting the challenges"
   ]
  },
  {
   "cell_type": "code",
   "execution_count": 2,
   "metadata": {},
   "outputs": [],
   "source": [
    "# This cell contains functions and variables used by the challenges.\n",
    "\n",
    "answers = ['TATATCGGATAAATACGCGTATAACCG', 0.35, 'UACAUCAGCGCUAGAUAGCGACUACUAUCGAGUCAUAUAGGAUCUAGGCUAU']\n",
    "\n",
    "def test(result, answer):\n",
    "    if result == answer:\n",
    "        print('Code complete! Correct answer: {}'.format(answer))\n",
    "    else:\n",
    "        print('Not quite! Your answer is incorrect: {}'.format(result))\n",
    "\n",
    "gencode = { \n",
    "        'ATA':'I', 'ATC':'I', 'ATT':'I', 'ATG':'M', 'ACA':'T', 'ACC':'T', 'ACG':'T', 'ACT':'T', \n",
    "        'AAC':'N', 'AAT':'N', 'AAA':'K', 'AAG':'K', 'AGC':'S', 'AGT':'S', 'AGA':'R', 'AGG':'R', \n",
    "        'CTA':'L', 'CTC':'L', 'CTG':'L', 'CTT':'L', 'CCA':'P', 'CCC':'P', 'CCG':'P', 'CCT':'P', \n",
    "        'CAC':'H', 'CAT':'H', 'CAA':'Q', 'CAG':'Q', 'CGA':'R', 'CGC':'R', 'CGG':'R', 'CGT':'R', \n",
    "        'GTA':'V', 'GTC':'V', 'GTG':'V', 'GTT':'V', 'GCA':'A', 'GCC':'A', 'GCG':'A', 'GCT':'A', \n",
    "        'GAC':'D', 'GAT':'D', 'GAA':'E', 'GAG':'E', 'GGA':'G', 'GGC':'G', 'GGG':'G', 'GGT':'G', \n",
    "        'TCA':'S', 'TCC':'S', 'TCG':'S', 'TCT':'S', 'TTC':'F', 'TTT':'F', 'TTA':'L', 'TTG':'L', \n",
    "        'TAC':'Y', 'TAT':'Y', 'TAA':'_', 'TAG':'_', 'TGC':'C', 'TGT':'C', 'TGA':'_', 'TGG':'W'}        \n",
    "\n",
    "def transcribe(seq):\n",
    "        output = []\n",
    "        if (len(seq)%3 != 0) or (gencode[seq[0:3]]!='M') or (gencode[seq[-3:]]!='_'):\n",
    "            print('Error! This is not a valid RNA sequence. Have you chosen correct start and stop codons?')\n",
    "        else:\n",
    "            for i in range(3,len(seq)+3,3):\n",
    "                try:\n",
    "                    output.append(gencode[seq[i-3:i]])\n",
    "                except KeyError:\n",
    "                    print('Error! Your DNA molecule should only contain symbols for Thymine, Adenine, Cytosine or Guanine.')\n",
    "                    exit()\n",
    "            return(\"\".join(output))\n",
    "            "
   ]
  },
  {
   "cell_type": "markdown",
   "metadata": {},
   "source": [
    " "
   ]
  },
  {
   "cell_type": "markdown",
   "metadata": {},
   "source": [
    "## 1. Complementary base pairing\n",
    "DNA bases are linked by hydrogen bonds and undergo complementary base pairing. This means Adenine always pairs with Thymine, while Guanine always pairs with Cytosine. We can represent the double-stranded molecule as such:\n",
    "```\n",
    "Strand 1: ATCGCTCGATCGATCATCATAT\n",
    "          ||||||||||||||||||||||\n",
    "Strand 2: TAGCGAGCTAGCTAGTAGTATA\n",
    "```\n",
    "Strand 2 is known as the complementary strand. Follow the comments to fix the code below and find the complementary strand of the sequence."
   ]
  },
  {
   "cell_type": "code",
   "execution_count": 5,
   "metadata": {
    "scrolled": true
   },
   "outputs": [
    {
     "name": "stdout",
     "output_type": "stream",
     "text": [
      "Not quite! Your answer is incorrect: 141412334144414232314144223\n"
     ]
    }
   ],
   "source": [
    "# The code in this box finds the complementary strand of a DNA sequence.\n",
    "# Follow the instructions in comments like this to fix it.\n",
    "\n",
    "def complement(strand1):\n",
    "    strand2 = []\n",
    "    # This function calculates the complement strand for a sequence. The line below works as a lookup table,\n",
    "    # where 1,2,3,4 should be replaced with the correct complementary DNA bases (in quotes).\n",
    "    base_pair = {'A':'1', 'G':'2', 'C':'3', 'T':'4'}\n",
    "    for base in strand1:\n",
    "        strand2.append(base_pair[base])\n",
    "    return \"\".join([str(i) for i in strand2])\n",
    "\n",
    "seq = 'ATATAGCCTATTTATGCGCATATTGGC'\n",
    "test(complement(seq), answers[0])"
   ]
  },
  {
   "cell_type": "markdown",
   "metadata": {},
   "source": [
    " "
   ]
  },
  {
   "cell_type": "markdown",
   "metadata": {},
   "source": [
    "## 2. GC Content\n",
    "The GC content is the proportion of the sequence that contains **'G'** and **'C'** bases. GC bonds are stronger than AT bonds, therefore GC content can indicate the stability of a DNA molecule. The human genome has GC-rich and GC-poor regions, yet we can  use this as a measure of the quality of our human sequence.\n",
    "\n",
    "Follow the comments to fix the code below and calculate the GC content of the sequence."
   ]
  },
  {
   "cell_type": "code",
   "execution_count": 90,
   "metadata": {},
   "outputs": [
    {
     "name": "stdout",
     "output_type": "stream",
     "text": [
      "Not quite! Your answer is incorrect: 0.01515151515151515\n"
     ]
    }
   ],
   "source": [
    "# The code below calulates the GC content of a given sequence.\n",
    "# Follow the instructions in comments like this to fix it\n",
    "\n",
    "def gccontent(seq):\n",
    "    # Change the line below so the correct bases are counted for GC content\n",
    "    return ((seq.count('G')/seq.count('A'))/len(seq))\n",
    "\n",
    "# Edit the DNA sequence below until it has a GC content of 0.35. Run the code to check your answer.\n",
    "seq = 'ATATTTATAAATAGCATAGCGC'\n",
    "test(gccontent(seq), answers[1])"
   ]
  },
  {
   "cell_type": "markdown",
   "metadata": {},
   "source": [
    " "
   ]
  },
  {
   "cell_type": "markdown",
   "metadata": {},
   "source": [
    "## 3. The second Nucleic Acid\n",
    "\n",
    "Within the nucleus of our cells DNA is translated into RNA, which contains instructions for building proteins in our bodies. The two molecules are closely related, however in RNA, Uracil (U) replaces the Thymine (T) in DNA."
   ]
  },
  {
   "cell_type": "code",
   "execution_count": 6,
   "metadata": {},
   "outputs": [
    {
     "name": "stdout",
     "output_type": "stream",
     "text": [
      "Not quite! Your answer is incorrect: 2424224323224342432342242242234322424243342224332242\n"
     ]
    }
   ],
   "source": [
    "# The code below translates a DNA sequence into it's corresponding RNA sequence.\n",
    "# Follow the instructions in comments like this to fix it.\n",
    "\n",
    "def translate(seq):\n",
    "    # Change the line below so the Thymine bases in the sequence (T) are correctly replaced with Uracil (U)\n",
    "    # Hint, in seq.replace('1','2'), the base being replaced is '1'.\n",
    "    return complement(seq).replace('1','2')\n",
    "\n",
    "seq = 'ATGTAGTCGCGATCTATCGCTGATGATAGCTCAGTATATCCTAGATCCGATA'\n",
    "test(translate(seq), answers[2])"
   ]
  },
  {
   "cell_type": "markdown",
   "metadata": {},
   "source": [
    " "
   ]
  },
  {
   "cell_type": "markdown",
   "metadata": {},
   "source": [
    "## 4. Transcription and the triplet code\n",
    "\n",
    "Proteins are synthesised from the genetic code in a process known as **transcription**. Ribosomes in our cells read RNA bases in sets of three, known as **codons**. Each codon translates to a specific **amino acid** that is the building block of a protein. Just like DNA and RNA sequences, we can represent protein sequences as letters where each letter corresponds to an amino acid.\n",
    "\n",
    "The triplet code has repeats, the same amino acid can be translated from the same DNA or RNA codon:\n",
    "\n",
    "```\n",
    "Methionine (M) = ATG\n",
    "STOP codons = TAG, TAA or TGA```"
   ]
  },
  {
   "cell_type": "code",
   "execution_count": 7,
   "metadata": {},
   "outputs": [
    {
     "name": "stdout",
     "output_type": "stream",
     "text": [
      "Error! This is not a valid RNA sequence. Have you chosen correct start and stop codons?\n"
     ]
    }
   ],
   "source": [
    "# The code below returns the amino acid sequence from an RNA molecule.\n",
    "# Follow the instructions in comments like this to fix it.\n",
    "\n",
    "# Edit the DNA sequence below to create a 'valid' protein sequence.\n",
    "# Hint: Proteins must begin with a start codon (Methionine) and stop codon, and contain triplets.\n",
    "DNA = 'AAAAAAAAAAAAAAAAAAAAAAAAAAAAAAAAAAAAAAAAAAAAAAAAAAAAAAAAAA'\n",
    "\n",
    "if transcribe(DNA):\n",
    "    print('Code complete! Your protein sequence is:\\n{}'.format(transcribe(DNA)))"
   ]
  }
 ],
 "metadata": {
  "kernelspec": {
   "display_name": "Python 3",
   "language": "python",
   "name": "python3"
  },
  "language_info": {
   "codemirror_mode": {
    "name": "ipython",
    "version": 3
   },
   "file_extension": ".py",
   "mimetype": "text/x-python",
   "name": "python",
   "nbconvert_exporter": "python",
   "pygments_lexer": "ipython3",
   "version": "3.5.2"
  }
 },
 "nbformat": 4,
 "nbformat_minor": 2
}
